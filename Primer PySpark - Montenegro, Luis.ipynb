{
 "cells": [
  {
   "cell_type": "markdown",
   "metadata": {
    "application/vnd.databricks.v1+cell": {
     "cellMetadata": {
      "byteLimit": 2048000,
      "rowLimit": 10000
     },
     "inputWidgets": {},
     "nuid": "ef2114dc-8be7-4eb5-a313-7e2b03202309",
     "showTitle": false,
     "title": ""
    }
   },
   "source": [
    "\n",
    "PONTIFICIA UNIVERSIDAD JAVERIANA\n",
    "\n",
    "Autor: Luis Montenegro\n",
    "\n",
    "Fecha: 22/07/2024\n",
    "\n",
    "Tema: Introducción al procesamiento de altos volúmenes de datos."
   ]
  },
  {
   "cell_type": "code",
   "execution_count": 0,
   "metadata": {
    "application/vnd.databricks.v1+cell": {
     "cellMetadata": {
      "byteLimit": 2048000,
      "rowLimit": 10000
     },
     "inputWidgets": {},
     "nuid": "4f1bdd48-3877-4037-8e22-078fe174afd1",
     "showTitle": false,
     "title": ""
    }
   },
   "outputs": [],
   "source": [
    "###Se importan las bibliotecas necesarias.\n",
    "import pyspark\n",
    "from pyspark.context import SparkContext\n",
    "from pyspark.sql.session import SparkSession\n",
    "from pyspark.sql.functions import col\n",
    "from pyspark.sql.types import IntegerType, FloatType"
   ]
  },
  {
   "cell_type": "code",
   "execution_count": 0,
   "metadata": {
    "application/vnd.databricks.v1+cell": {
     "cellMetadata": {
      "byteLimit": 2048000,
      "rowLimit": 10000
     },
     "inputWidgets": {},
     "nuid": "84e14ab0-b861-420b-b5c5-a212fdfac9cf",
     "showTitle": false,
     "title": ""
    }
   },
   "outputs": [
    {
     "output_type": "display_data",
     "data": {
      "text/html": [
       "<style scoped>\n",
       "  .table-result-container {\n",
       "    max-height: 300px;\n",
       "    overflow: auto;\n",
       "  }\n",
       "  table, th, td {\n",
       "    border: 1px solid black;\n",
       "    border-collapse: collapse;\n",
       "  }\n",
       "  th, td {\n",
       "    padding: 5px;\n",
       "  }\n",
       "  th {\n",
       "    text-align: left;\n",
       "  }\n",
       "</style><div class='table-result-container'><table class='table-result'><thead style='background-color: white'><tr><th>path</th><th>name</th><th>size</th><th>modificationTime</th></tr></thead><tbody><tr><td>dbfs:/databricks-datasets/samples/adam/</td><td>adam/</td><td>0</td><td>0</td></tr><tr><td>dbfs:/databricks-datasets/samples/data/</td><td>data/</td><td>0</td><td>0</td></tr><tr><td>dbfs:/databricks-datasets/samples/docs/</td><td>docs/</td><td>0</td><td>0</td></tr><tr><td>dbfs:/databricks-datasets/samples/lending_club/</td><td>lending_club/</td><td>0</td><td>0</td></tr><tr><td>dbfs:/databricks-datasets/samples/newsgroups/</td><td>newsgroups/</td><td>0</td><td>0</td></tr><tr><td>dbfs:/databricks-datasets/samples/people/</td><td>people/</td><td>0</td><td>0</td></tr><tr><td>dbfs:/databricks-datasets/samples/population-vs-price/</td><td>population-vs-price/</td><td>0</td><td>0</td></tr></tbody></table></div>"
      ]
     },
     "metadata": {
      "application/vnd.databricks.v1+output": {
       "addedWidgets": {},
       "aggData": [],
       "aggError": "",
       "aggOverflow": false,
       "aggSchema": [],
       "aggSeriesLimitReached": false,
       "aggType": "",
       "arguments": {},
       "columnCustomDisplayInfos": {},
       "data": [
        [
         "dbfs:/databricks-datasets/samples/adam/",
         "adam/",
         0,
         0
        ],
        [
         "dbfs:/databricks-datasets/samples/data/",
         "data/",
         0,
         0
        ],
        [
         "dbfs:/databricks-datasets/samples/docs/",
         "docs/",
         0,
         0
        ],
        [
         "dbfs:/databricks-datasets/samples/lending_club/",
         "lending_club/",
         0,
         0
        ],
        [
         "dbfs:/databricks-datasets/samples/newsgroups/",
         "newsgroups/",
         0,
         0
        ],
        [
         "dbfs:/databricks-datasets/samples/people/",
         "people/",
         0,
         0
        ],
        [
         "dbfs:/databricks-datasets/samples/population-vs-price/",
         "population-vs-price/",
         0,
         0
        ]
       ],
       "datasetInfos": [],
       "dbfsResultPath": null,
       "isJsonSchema": true,
       "metadata": {},
       "overflow": false,
       "plotOptions": {
        "customPlotOptions": {},
        "displayType": "table",
        "pivotAggregation": null,
        "pivotColumns": null,
        "xColumns": null,
        "yColumns": null
       },
       "removedWidgets": [],
       "schema": [
        {
         "metadata": "{}",
         "name": "path",
         "type": "\"string\""
        },
        {
         "metadata": "{}",
         "name": "name",
         "type": "\"string\""
        },
        {
         "metadata": "{}",
         "name": "size",
         "type": "\"long\""
        },
        {
         "metadata": "{}",
         "name": "modificationTime",
         "type": "\"long\""
        }
       ],
       "type": "table"
      }
     },
     "output_type": "display_data"
    }
   ],
   "source": [
    "####Databricks es un entorno que proporciona cómputo y almacenamiento.\n",
    "###Community Edition permite acceder a parte de estos recursos de forma gratuita.\n",
    "\n",
    "### Se observan los datasets (conjuntos de datos) disponibles en DataBricks.\n",
    "display(dbutils.fs.ls(\"databricks-datasets/samples\"))"
   ]
  },
  {
   "cell_type": "code",
   "execution_count": 0,
   "metadata": {
    "application/vnd.databricks.v1+cell": {
     "cellMetadata": {
      "byteLimit": 2048000,
      "rowLimit": 10000
     },
     "inputWidgets": {},
     "nuid": "f42f1716-a19e-4876-b5ec-063823805c77",
     "showTitle": false,
     "title": ""
    }
   },
   "outputs": [
    {
     "output_type": "stream",
     "name": "stdout",
     "output_type": "stream",
     "text": [
      "+---------+----------+-------+----------+------------------------+-----------------------+\n|2014 rank|      City|  State|State Code|2014 Population estimate|2015 median sales price|\n+---------+----------+-------+----------+------------------------+-----------------------+\n|      101|Birmingham|Alabama|        AL|                  212247|                  162.9|\n|      125|Huntsville|Alabama|        AL|                  188226|                  157.7|\n|      122|    Mobile|Alabama|        AL|                  194675|                  122.5|\n|      114|Montgomery|Alabama|        AL|                  200481|                    129|\n+---------+----------+-------+----------+------------------------+-----------------------+\nonly showing top 4 rows\n\n"
     ]
    }
   ],
   "source": [
    "####Como ejemplo, se carga un fichero.\n",
    "###La carga se instancia en un objeto DATAFRAME, de Spark.\n",
    "dfejemplo00 = spark.read.csv(\"/databricks-datasets/samples/population-vs-price/data_geo.csv\", header = True)\n",
    "###Se presenta el dataframe.\n",
    "dfejemplo00.show(4)"
   ]
  },
  {
   "cell_type": "code",
   "execution_count": 0,
   "metadata": {
    "application/vnd.databricks.v1+cell": {
     "cellMetadata": {
      "byteLimit": 2048000,
      "rowLimit": 10000
     },
     "inputWidgets": {},
     "nuid": "11affeec-7bff-41a2-bedd-82499d6d8c54",
     "showTitle": false,
     "title": ""
    }
   },
   "outputs": [
    {
     "output_type": "execute_result",
     "data": {
      "text/plain": [
       "['2014 rank',\n",
       " 'City',\n",
       " 'State',\n",
       " 'State Code',\n",
       " '2014 Population estimate',\n",
       " '2015 median sales price']"
      ]
     },
     "execution_count": 4,
     "metadata": {},
     "output_type": "execute_result"
    }
   ],
   "source": [
    "###Se impriment los nombres de las columnas.\n",
    "dfejemplo00.columns"
   ]
  },
  {
   "cell_type": "code",
   "execution_count": 0,
   "metadata": {
    "application/vnd.databricks.v1+cell": {
     "cellMetadata": {
      "byteLimit": 2048000,
      "rowLimit": 10000
     },
     "inputWidgets": {},
     "nuid": "e3a2d068-8b7a-41ad-97f2-e4581d3a31ad",
     "showTitle": false,
     "title": ""
    }
   },
   "outputs": [
    {
     "output_type": "stream",
     "name": "stdout",
     "output_type": "stream",
     "text": [
      "+-------+-----------------+-------+---------+----------+------------------------+-----------------------+\n|summary|        2014 rank|   City|    State|State Code|2014 Population estimate|2015 median sales price|\n+-------+-----------------+-------+---------+----------+------------------------+-----------------------+\n|  count|              294|    294|      294|       294|                     293|                    109|\n|   mean|            147.5|   NULL|     NULL|      NULL|      307284.89761092153|      211.2660550458717|\n| stddev|85.01470461043782|   NULL|     NULL|      NULL|       603487.8272175139|       134.017245449277|\n|    min|                1|Abilene|  Alabama|        AK|                  101408|                  105.2|\n|    max|               99|Yonkers|Wisconsin|        WI|                  912791|                   95.4|\n+-------+-----------------+-------+---------+----------+------------------------+-----------------------+\n\n"
     ]
    }
   ],
   "source": [
    "###Se presenta un resumen estadístico.\n",
    "dfejemplo00.describe().show()"
   ]
  },
  {
   "cell_type": "code",
   "execution_count": 0,
   "metadata": {
    "application/vnd.databricks.v1+cell": {
     "cellMetadata": {
      "byteLimit": 2048000,
      "rowLimit": 10000
     },
     "inputWidgets": {},
     "nuid": "aceb620b-3088-4c99-b0fe-b816f2545ac2",
     "showTitle": false,
     "title": ""
    }
   },
   "outputs": [
    {
     "output_type": "stream",
     "name": "stdout",
     "output_type": "stream",
     "text": [
      "root\n |-- 2014 rank: string (nullable = true)\n |-- City: string (nullable = true)\n |-- State: string (nullable = true)\n |-- State Code: string (nullable = true)\n |-- 2014 Population estimate: string (nullable = true)\n |-- 2015 median sales price: string (nullable = true)\n\n"
     ]
    }
   ],
   "source": [
    "####Comando para presentar esquema.\n",
    "dfejemplo00.printSchema()"
   ]
  },
  {
   "cell_type": "code",
   "execution_count": 0,
   "metadata": {
    "application/vnd.databricks.v1+cell": {
     "cellMetadata": {
      "byteLimit": 2048000,
      "rowLimit": 10000
     },
     "inputWidgets": {},
     "nuid": "ba69ac30-cb20-4504-8dda-c19df492f86b",
     "showTitle": false,
     "title": ""
    }
   },
   "outputs": [],
   "source": [
    "###Se recomienda cambiar los nombres de las columnas.\n",
    "dfejemplo01 = dfejemplo00.withColumnRenamed(\"2014 rank\",\"2014_rank\")\\\n",
    "    .withColumnRenamed(\"State Code\",\"State_Code\")\\\n",
    "    .withColumnRenamed(\"2014 Population estimate\",\"2014_Population_estimate\")\\\n",
    "    .withColumnRenamed(\"2015 median sales price\",\"2015_median_sales_price\")\n",
    "display(dfejemplo01)"
   ]
  },
  {
   "cell_type": "markdown",
   "metadata": {
    "application/vnd.databricks.v1+cell": {
     "cellMetadata": {
      "byteLimit": 2048000,
      "rowLimit": 10000
     },
     "inputWidgets": {},
     "nuid": "15f23843-8629-4c64-972d-abf7ebc4972f",
     "showTitle": false,
     "title": ""
    }
   },
   "source": [
    "\n",
    "###Observaciones con los tipos de datos:\n",
    "  -Se observa que todos los datos son de tipo STRING, incluso aquellos que debieran ser de tipo numérico (INTEGER o FLOAT).\n",
    "\n",
    "  -Se deben ajustar los datos a su tipo correspondiente.\n",
    "  \n",
    "  -Para ello, se usará como herramienta el método ***.withColumn()*** (cambio de tipo manual)."
   ]
  },
  {
   "cell_type": "code",
   "execution_count": 0,
   "metadata": {
    "application/vnd.databricks.v1+cell": {
     "cellMetadata": {
      "byteLimit": 2048000,
      "rowLimit": 10000
     },
     "inputWidgets": {},
     "nuid": "cd931eea-420c-4c15-84a6-ede9d310cb42",
     "showTitle": false,
     "title": ""
    }
   },
   "outputs": [
    {
     "output_type": "stream",
     "name": "stdout",
     "output_type": "stream",
     "text": [
      "root\n |-- 2014_rank: integer (nullable = true)\n |-- City: string (nullable = true)\n |-- State: string (nullable = true)\n |-- State_Code: string (nullable = true)\n |-- 2014_Population_estimate: integer (nullable = true)\n |-- 2015_median_sales_price: float (nullable = true)\n\n"
     ]
    }
   ],
   "source": [
    "###Se hace el casteo o modificación de cada tipo de dato\n",
    "dfejemplo02 = dfejemplo01.withColumn(\"2014_rank\", col(\"2014_rank\").cast(IntegerType()))\\\n",
    "    .withColumn(\"2014_Population_estimate\", col(\"2014_Population_estimate\").cast(IntegerType()))\\\n",
    "    .withColumn(\"2015_median_sales_price\", col(\"2015_median_sales_price\").cast(FloatType()))\n",
    "###Se hace inpescción de la reciente modificación de datos.\n",
    "dfejemplo02.printSchema()"
   ]
  },
  {
   "cell_type": "code",
   "execution_count": 0,
   "metadata": {
    "application/vnd.databricks.v1+cell": {
     "cellMetadata": {
      "byteLimit": 2048000,
      "rowLimit": 10000
     },
     "inputWidgets": {},
     "nuid": "e79401fb-1b8e-47c3-b1d4-46f2d8c50825",
     "showTitle": false,
     "title": ""
    }
   },
   "outputs": [
    {
     "output_type": "display_data",
     "data": {
      "text/html": [
       "<style scoped>\n",
       "  .table-result-container {\n",
       "    max-height: 300px;\n",
       "    overflow: auto;\n",
       "  }\n",
       "  table, th, td {\n",
       "    border: 1px solid black;\n",
       "    border-collapse: collapse;\n",
       "  }\n",
       "  th, td {\n",
       "    padding: 5px;\n",
       "  }\n",
       "  th {\n",
       "    text-align: left;\n",
       "  }\n",
       "</style><div class='table-result-container'><table class='table-result'><thead style='background-color: white'><tr><th>summary</th><th>2014_rank</th><th>City</th><th>State</th><th>State_Code</th><th>2014_Population_estimate</th><th>2015_median_sales_price</th></tr></thead><tbody><tr><td>count</td><td>294</td><td>294</td><td>294</td><td>294</td><td>293</td><td>109</td></tr><tr><td>mean</td><td>147.5</td><td>null</td><td>null</td><td>null</td><td>307284.89761092153</td><td>211.26605476589378</td></tr><tr><td>stddev</td><td>85.01470461043782</td><td>null</td><td>null</td><td>null</td><td>603487.8272175139</td><td>134.01724508539056</td></tr><tr><td>min</td><td>1</td><td>Abilene</td><td>Alabama</td><td>AK</td><td>101408</td><td>78.6</td></tr><tr><td>max</td><td>294</td><td>Yonkers</td><td>Wisconsin</td><td>WI</td><td>8491079</td><td>900.0</td></tr></tbody></table></div>"
      ]
     },
     "metadata": {
      "application/vnd.databricks.v1+output": {
       "addedWidgets": {},
       "aggData": [],
       "aggError": "",
       "aggOverflow": false,
       "aggSchema": [],
       "aggSeriesLimitReached": false,
       "aggType": "",
       "arguments": {},
       "columnCustomDisplayInfos": {},
       "data": [
        [
         "count",
         "294",
         "294",
         "294",
         "294",
         "293",
         "109"
        ],
        [
         "mean",
         "147.5",
         null,
         null,
         null,
         "307284.89761092153",
         "211.26605476589378"
        ],
        [
         "stddev",
         "85.01470461043782",
         null,
         null,
         null,
         "603487.8272175139",
         "134.01724508539056"
        ],
        [
         "min",
         "1",
         "Abilene",
         "Alabama",
         "AK",
         "101408",
         "78.6"
        ],
        [
         "max",
         "294",
         "Yonkers",
         "Wisconsin",
         "WI",
         "8491079",
         "900.0"
        ]
       ],
       "datasetInfos": [],
       "dbfsResultPath": null,
       "isJsonSchema": true,
       "metadata": {},
       "overflow": false,
       "plotOptions": {
        "customPlotOptions": {},
        "displayType": "table",
        "pivotAggregation": null,
        "pivotColumns": null,
        "xColumns": null,
        "yColumns": null
       },
       "removedWidgets": [],
       "schema": [
        {
         "metadata": "{}",
         "name": "summary",
         "type": "\"string\""
        },
        {
         "metadata": "{}",
         "name": "2014_rank",
         "type": "\"string\""
        },
        {
         "metadata": "{}",
         "name": "City",
         "type": "\"string\""
        },
        {
         "metadata": "{}",
         "name": "State",
         "type": "\"string\""
        },
        {
         "metadata": "{}",
         "name": "State_Code",
         "type": "\"string\""
        },
        {
         "metadata": "{}",
         "name": "2014_Population_estimate",
         "type": "\"string\""
        },
        {
         "metadata": "{}",
         "name": "2015_median_sales_price",
         "type": "\"string\""
        }
       ],
       "type": "table"
      }
     },
     "output_type": "display_data"
    }
   ],
   "source": [
    "###Nuevamente se revisa el resumen estadístico de los datos.\n",
    "display(dfejemplo02.describe())"
   ]
  },
  {
   "cell_type": "markdown",
   "metadata": {
    "application/vnd.databricks.v1+cell": {
     "cellMetadata": {
      "byteLimit": 2048000,
      "rowLimit": 10000
     },
     "inputWidgets": {},
     "nuid": "38096866-54e2-470d-b6e1-0d30191c9e25",
     "showTitle": false,
     "title": ""
    }
   },
   "source": [
    "\n",
    "###Vista de Datos\n",
    "\n",
    "El comando ***createOrReplaceTempView*** crea una vista temporal usando un SparkDataFrame en la sesión ***spark***. Esto último nos permite hacer consultas ***SQL*** sobre el objeto."
   ]
  },
  {
   "cell_type": "code",
   "execution_count": 0,
   "metadata": {
    "application/vnd.databricks.v1+cell": {
     "cellMetadata": {
      "byteLimit": 2048000,
      "rowLimit": 10000
     },
     "inputWidgets": {},
     "nuid": "32d24d40-f104-4333-93ff-49e4fa0d6d8a",
     "showTitle": false,
     "title": ""
    }
   },
   "outputs": [],
   "source": [
    "###Se crea la vista temporal.\n",
    "dfejemplo02.createOrReplaceTempView(\"data_geo\")"
   ]
  },
  {
   "cell_type": "markdown",
   "metadata": {
    "application/vnd.databricks.v1+cell": {
     "cellMetadata": {
      "byteLimit": 2048000,
      "rowLimit": 10000
     },
     "inputWidgets": {},
     "nuid": "0bc4ca2b-e7b0-4b8b-b306-bbf68561fb7d",
     "showTitle": false,
     "title": ""
    }
   },
   "source": [
    "Se pueden elaborar consultas SQL de manera rápida usando ***%sql***."
   ]
  },
  {
   "cell_type": "code",
   "execution_count": 0,
   "metadata": {
    "application/vnd.databricks.v1+cell": {
     "cellMetadata": {
      "byteLimit": 2048000,
      "rowLimit": 10000
     },
     "inputWidgets": {},
     "nuid": "95891176-2965-44fc-9dc5-652a157529de",
     "showTitle": false,
     "title": ""
    }
   },
   "outputs": [
    {
     "output_type": "display_data",
     "data": {
      "text/plain": [
       "\u001B[0;36m  File \u001B[0;32m<command-1991233493054403>, line 4\u001B[0;36m\u001B[0m\n",
       "\u001B[0;31m    select `State_Code`, `2015_median_sales_price` from data_geo\u001B[0m\n",
       "\u001B[0m                              ^\u001B[0m\n",
       "\u001B[0;31mSyntaxError\u001B[0m\u001B[0;31m:\u001B[0m invalid decimal literal\n"
      ]
     },
     "metadata": {
      "application/vnd.databricks.v1+output": {
       "addedWidgets": {},
       "arguments": {},
       "datasetInfos": [],
       "jupyterProps": {
        "ename": "SyntaxError",
        "evalue": "invalid decimal literal (command-1991233493054403-1808745265, line 4)"
       },
       "metadata": {
        "errorSummary": "<span class='ansi-red-fg'>SyntaxError</span>: invalid decimal literal (command-1991233493054403-1808745265, line 4)"
       },
       "removedWidgets": [],
       "sqlProps": null,
       "stackFrames": [
        "\u001B[0;36m  File \u001B[0;32m<command-1991233493054403>, line 4\u001B[0;36m\u001B[0m\n\u001B[0;31m    select `State_Code`, `2015_median_sales_price` from data_geo\u001B[0m\n\u001B[0m                              ^\u001B[0m\n\u001B[0;31mSyntaxError\u001B[0m\u001B[0;31m:\u001B[0m invalid decimal literal\n"
       ],
       "type": "baseError"
      }
     },
     "output_type": "display_data"
    }
   ],
   "source": [
    "###Se pueden hacer consultas SQL sobre el objeto de vista temporal.\n",
    "%sql\n",
    "\n",
    "select `State_Code`, `2015_median_sales_price` from data_geo"
   ]
  }
 ],
 "metadata": {
  "application/vnd.databricks.v1+notebook": {
   "dashboards": [],
   "environmentMetadata": null,
   "language": "python",
   "notebookMetadata": {
    "pythonIndentUnit": 4
   },
   "notebookName": "Primer PySpark - Montenegro, Luis",
   "widgets": {}
  }
 },
 "nbformat": 4,
 "nbformat_minor": 0
}
